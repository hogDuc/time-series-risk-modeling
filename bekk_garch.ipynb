{
 "cells": [
  {
   "cell_type": "code",
   "execution_count": 5,
   "id": "d52c4e90",
   "metadata": {},
   "outputs": [],
   "source": [
    "import pandas as pd\n",
    "from datetime import datetime\n",
    "import os\n",
    "import torch\n",
    "from tqdm import tqdm\n",
    "import matplotlib.pyplot as plt\n",
    "import numpy as np\n",
    "from functions import *\n",
    "from scipy.optimize import minimize\n",
    "from MODELS import BEKK_GARCH_MODEL"
   ]
  },
  {
   "cell_type": "code",
   "execution_count": 6,
   "id": "bc438029",
   "metadata": {},
   "outputs": [],
   "source": [
    "# ticker_list = ['REE', 'SAM', 'HAP', 'GMD', 'GIL', 'TMS', 'SAV', 'DHA', 'MHC', 'HAS'] # 10 stocks with the most observations\n",
    "ticker_list = ['REE', 'SAM', 'HAP'] # 3 stocks with the most observations\n",
    "limits = {\n",
    "    'hose':0.07,\n",
    "    'hnx':0.1,\n",
    "    'upcom':0.15\n",
    "}"
   ]
  },
  {
   "cell_type": "code",
   "execution_count": 4,
   "id": "b8a5a2d0",
   "metadata": {},
   "outputs": [
    {
     "name": "stdout",
     "output_type": "stream",
     "text": [
      "% of observations removed: 1.05%\n"
     ]
    },
    {
     "data": {
      "application/vnd.microsoft.datawrangler.viewer.v0+json": {
       "columns": [
        {
         "name": "index",
         "rawType": "object",
         "type": "string"
        },
        {
         "name": "REE",
         "rawType": "float64",
         "type": "float"
        },
        {
         "name": "SAM",
         "rawType": "float64",
         "type": "float"
        },
        {
         "name": "HAP",
         "rawType": "float64",
         "type": "float"
        }
       ],
       "ref": "448814c5-eb47-4513-8ad7-5dc991f34cc9",
       "rows": [
        [
         "count",
         "5951.0",
         "5951.0",
         "5951.0"
        ],
        [
         "mean",
         "0.0010912796127533122",
         "0.0006992991984033923",
         "0.0007700803761068733"
        ],
        [
         "std",
         "0.021411474695274997",
         "0.023732509900508746",
         "0.024893963733018585"
        ],
        [
         "min",
         "-0.06997105493074274",
         "-0.06999876644275715",
         "-0.0699626865671642"
        ],
        [
         "25%",
         "-0.009689088524274747",
         "-0.011620065212613162",
         "-0.012434002527699717"
        ],
        [
         "50%",
         "0.0",
         "0.0",
         "0.0"
        ],
        [
         "75%",
         "0.011761445323983155",
         "0.012037072645464164",
         "0.012855287857850839"
        ],
        [
         "max",
         "0.06996220262358266",
         "0.0699185460709073",
         "0.0699271963910848"
        ]
       ],
       "shape": {
        "columns": 3,
        "rows": 8
       }
      },
      "text/html": [
       "<div>\n",
       "<style scoped>\n",
       "    .dataframe tbody tr th:only-of-type {\n",
       "        vertical-align: middle;\n",
       "    }\n",
       "\n",
       "    .dataframe tbody tr th {\n",
       "        vertical-align: top;\n",
       "    }\n",
       "\n",
       "    .dataframe thead th {\n",
       "        text-align: right;\n",
       "    }\n",
       "</style>\n",
       "<table border=\"1\" class=\"dataframe\">\n",
       "  <thead>\n",
       "    <tr style=\"text-align: right;\">\n",
       "      <th>ticker</th>\n",
       "      <th>REE</th>\n",
       "      <th>SAM</th>\n",
       "      <th>HAP</th>\n",
       "    </tr>\n",
       "  </thead>\n",
       "  <tbody>\n",
       "    <tr>\n",
       "      <th>count</th>\n",
       "      <td>5951.000000</td>\n",
       "      <td>5951.000000</td>\n",
       "      <td>5951.000000</td>\n",
       "    </tr>\n",
       "    <tr>\n",
       "      <th>mean</th>\n",
       "      <td>0.001091</td>\n",
       "      <td>0.000699</td>\n",
       "      <td>0.000770</td>\n",
       "    </tr>\n",
       "    <tr>\n",
       "      <th>std</th>\n",
       "      <td>0.021411</td>\n",
       "      <td>0.023733</td>\n",
       "      <td>0.024894</td>\n",
       "    </tr>\n",
       "    <tr>\n",
       "      <th>min</th>\n",
       "      <td>-0.069971</td>\n",
       "      <td>-0.069999</td>\n",
       "      <td>-0.069963</td>\n",
       "    </tr>\n",
       "    <tr>\n",
       "      <th>25%</th>\n",
       "      <td>-0.009689</td>\n",
       "      <td>-0.011620</td>\n",
       "      <td>-0.012434</td>\n",
       "    </tr>\n",
       "    <tr>\n",
       "      <th>50%</th>\n",
       "      <td>0.000000</td>\n",
       "      <td>0.000000</td>\n",
       "      <td>0.000000</td>\n",
       "    </tr>\n",
       "    <tr>\n",
       "      <th>75%</th>\n",
       "      <td>0.011761</td>\n",
       "      <td>0.012037</td>\n",
       "      <td>0.012855</td>\n",
       "    </tr>\n",
       "    <tr>\n",
       "      <th>max</th>\n",
       "      <td>0.069962</td>\n",
       "      <td>0.069919</td>\n",
       "      <td>0.069927</td>\n",
       "    </tr>\n",
       "  </tbody>\n",
       "</table>\n",
       "</div>"
      ],
      "text/plain": [
       "ticker          REE          SAM          HAP\n",
       "count   5951.000000  5951.000000  5951.000000\n",
       "mean       0.001091     0.000699     0.000770\n",
       "std        0.021411     0.023733     0.024894\n",
       "min       -0.069971    -0.069999    -0.069963\n",
       "25%       -0.009689    -0.011620    -0.012434\n",
       "50%        0.000000     0.000000     0.000000\n",
       "75%        0.011761     0.012037     0.012855\n",
       "max        0.069962     0.069919     0.069927"
      ]
     },
     "metadata": {},
     "output_type": "display_data"
    }
   ],
   "source": [
    "# Read and merge into 1 dataset\n",
    "\n",
    "if \"stock_data.csv\" in os.listdir(\"data\"):\n",
    "    merged_df = pd.read_csv(\n",
    "        os.path.join(\"data\", \"stock_data.csv\"),\n",
    "        index_col=None\n",
    "    ).assign(\n",
    "        date = lambda df : pd.to_datetime(df[\"date\"])\n",
    "    )\n",
    "else:\n",
    "    # Read and merge data\n",
    "    hnx = pd.read_csv(os.path.join(\"data\", \"CafeF.HNX.Upto31.07.2025.csv\")).assign(\n",
    "        floor = \"hnx\"\n",
    "    )\n",
    "    hsx = pd.read_csv(os.path.join(\"data\", \"CafeF.HSX.Upto31.07.2025.csv\")).assign(\n",
    "        floor = \"hose\"\n",
    "    )\n",
    "    upcom = pd.read_csv(os.path.join(\"data\", \"CafeF.UPCOM.Upto31.07.2025.csv\")).assign(\n",
    "        floor = \"upcom\"\n",
    "    )\n",
    "    indexes = pd.read_csv(os.path.join(\"data\", \"CafeF.INDEX.Upto06.08.2025.csv\")).assign(\n",
    "        floor = \"index\"\n",
    "    )\n",
    "\n",
    "    # Rename columns\n",
    "    hnx, hsx, upcom, indexes = [\n",
    "        df.rename(columns={\n",
    "            \"<Ticker>\":\"ticker\",\n",
    "            \"<DTYYYYMMDD>\":\"date\",\n",
    "            \"<Open>\":\"open\",\n",
    "            \"<High>\":\"high\",\n",
    "            \"<Low>\":\"low\",\n",
    "            \"<Close>\":\"close\",\n",
    "            \"<Volume>\":\"volume\"\n",
    "        }) for df in [hnx, hsx, upcom, indexes]\n",
    "    ]\n",
    "        \n",
    "    # Merge and clean data\n",
    "    # UPCOM has missing tickers for some reason\n",
    "    merged_df = pd.concat(\n",
    "        [hnx, hsx, upcom, indexes],\n",
    "        axis=0\n",
    "    ).reset_index(drop=True).dropna(subset=\"ticker\")\\\n",
    "    .assign(\n",
    "        date=lambda df : df[\"date\"].astype(str).apply(lambda x: datetime.strptime(x, \"%Y%m%d\").date())\n",
    "    )\n",
    "    merged_df.to_csv(\n",
    "        os.path.join(\"data\", \"stock_data.csv\"),\n",
    "        index=False\n",
    "    ) # Save merged data to save time in future runs\n",
    "\n",
    "\n",
    "# Data cleaning and merging\n",
    "\n",
    "data = merged_df[[\"date\", \"ticker\", \"floor\", \"close\"]].sort_values([\"ticker\", \"date\"]).assign(\n",
    "    returns = lambda df : df.groupby(\"ticker\")[\"close\"].pct_change(),\n",
    "    log_returns_pct = lambda df : np.log(df[\"close\"] / df.groupby(\"ticker\")[\"close\"].shift(1))*100\n",
    ")\n",
    "\n",
    "data = data.loc[data[\"ticker\"].str.len()==3] # Eliminate ETF, and indeces\n",
    "\n",
    "data[\"limit\"] = data[\"floor\"].map(limits)\n",
    "outliers = data.loc[data[\"returns\"].abs() > data[\"limit\"]]\n",
    "clean_df = data.drop(outliers.index) # Remove outliers\n",
    "print(f\"% of observations removed: {round((len(outliers)/len(data))*100, 2)}%\")\n",
    "\n",
    "# NOTE: try out different samples of stocks\n",
    "pivoted_df = clean_df.pivot_table(values=\"returns\", index=\"date\", columns=\"ticker\") # Pivot data for better usability\n",
    "pivoted_df = pivoted_df[ticker_list].dropna()\n",
    "\n",
    "display(pivoted_df.describe())\n",
    "train_df, test_df = split_train_test(pivoted_df)"
   ]
  },
  {
   "cell_type": "code",
   "execution_count": 8,
   "id": "754fac71",
   "metadata": {},
   "outputs": [],
   "source": [
    "df = train_df - train_df.mean() # Demean return\n"
   ]
  },
  {
   "cell_type": "code",
   "execution_count": 9,
   "id": "d166991a",
   "metadata": {},
   "outputs": [
    {
     "data": {
      "text/plain": [
       "4760"
      ]
     },
     "execution_count": 9,
     "metadata": {},
     "output_type": "execute_result"
    }
   ],
   "source": [
    "len(df)"
   ]
  },
  {
   "cell_type": "code",
   "execution_count": null,
   "id": "f852a42d",
   "metadata": {},
   "outputs": [],
   "source": [
    "C, A, B, bekk = BEKK_GARCH_MODEL.fit_bekk(df.values)\n",
    "cov_matrix_forecast = BEKK_GARCH_MODEL.bekk_forecast(C, A, B, df.values, horizon=20)"
   ]
  },
  {
   "cell_type": "code",
   "execution_count": null,
   "id": "7a67bb19",
   "metadata": {},
   "outputs": [
    {
     "data": {
      "text/plain": [
       "[array([[7.99805514e-04, 2.80750292e-05, 5.77779794e-04],\n",
       "        [2.80750292e-05, 8.74376714e-06, 1.68047352e-05],\n",
       "        [5.77779794e-04, 1.68047352e-05, 4.57560021e-04]]),\n",
       " array([[6.22249332e-04, 1.35037203e-05, 4.65947806e-04],\n",
       "        [1.34734909e-04, 1.46403123e-05, 9.07234618e-05],\n",
       "        [1.02095633e-03, 1.88753480e-05, 8.11158577e-04]]),\n",
       " array([[5.99968417e-04, 5.45932257e-06, 4.65482525e-04],\n",
       "        [1.97015419e-04, 1.68363004e-05, 1.36653839e-04],\n",
       "        [1.65544072e-03, 1.96495701e-05, 1.32216631e-03]]),\n",
       " array([[7.02171572e-04, 8.12721818e-07, 5.58251552e-04],\n",
       "        [2.54506482e-04, 1.73013093e-05, 1.82368824e-04],\n",
       "        [2.60079889e-03, 1.94974978e-05, 2.08640607e-03]]),\n",
       " array([[ 9.35099464e-04, -2.08143391e-06,  7.52851146e-04],\n",
       "        [ 3.33845066e-04,  1.69944662e-05,  2.47344964e-04],\n",
       "        [ 4.03141149e-03,  1.84930597e-05,  3.24463612e-03]]),\n",
       " array([[ 1.33592402e-03, -4.11913413e-06,  1.08125804e-03],\n",
       "        [ 4.59125297e-04,  1.63635780e-05,  3.50101340e-04],\n",
       "        [ 6.20945839e-03,  1.64928591e-05,  5.00903567e-03]]),\n",
       " array([[ 1.97591098e-03, -5.82956077e-06,  1.60220932e-03],\n",
       "        [ 6.59213422e-04,  1.55956866e-05,  5.13572233e-04],\n",
       "        [ 9.53341778e-03,  1.31425466e-05,  7.70238409e-03]]),\n",
       " array([[ 2.97164572e-03, -7.58153582e-06,  2.41071910e-03],\n",
       "        [ 9.74576287e-04,  1.47400727e-05,  7.70361111e-04],\n",
       "        [ 1.46112244e-02,  7.82807267e-06,  1.18172864e-02]]),\n",
       " array([[ 4.50547161e-03, -9.70544946e-06,  3.65485808e-03],\n",
       "        [ 1.46552447e-03,  1.37647269e-05,  1.16928095e-03],\n",
       "        [ 2.23716080e-02, -4.28878369e-07,  1.81063733e-02]]),\n",
       " array([[ 6.85842084e-03, -1.25803334e-05,  5.56255322e-03],\n",
       "        [ 2.22371365e-03,  1.25763951e-05,  1.78460592e-03],\n",
       "        [ 3.42340503e-02, -1.31462370e-05,  2.77200240e-02]]),\n",
       " array([[ 1.04614295e-02, -1.67158917e-05,  8.48315260e-03],\n",
       "        [ 3.38918189e-03,  1.10180553e-05,  2.72984529e-03],\n",
       "        [ 5.23684869e-02, -3.26576537e-05,  4.24168316e-02]]),\n",
       " array([[ 1.59740891e-02, -2.28515222e-05,  1.29512793e-02],\n",
       "        [ 5.17613006e-03,  8.84864214e-06,  4.17862095e-03],\n",
       "        [ 8.00922826e-02, -6.25388146e-05,  6.48853242e-02]]),\n",
       " array([[ 2.44052820e-02, -3.20939834e-05,  1.97846161e-02],\n",
       "        [ 7.91220921e-03,  5.70406686e-06,  6.39650048e-03],\n",
       "        [ 1.22477111e-01, -1.08261432e-04,  9.92358044e-02]]),\n",
       " array([[ 3.72977412e-02, -4.61206652e-05,  3.02334897e-02],\n",
       "        [ 1.20985277e-02,  1.03385428e-06,  9.78962665e-03],\n",
       "        [ 1.87276762e-01, -1.78194290e-04,  1.51752287e-01]]),\n",
       " array([[ 5.70102834e-02, -6.74865270e-05,  4.62096098e-02],\n",
       "        [ 1.85013696e-02, -5.99741222e-06,  1.49790493e-02],\n",
       "        [ 2.86345625e-01, -2.85134361e-04,  2.32042097e-01]]),\n",
       " array([[ 8.71493406e-02, -1.00091281e-04,  7.06358043e-02],\n",
       "        [ 2.82924112e-02, -1.66614398e-05,  2.29143628e-02],\n",
       "        [ 4.37807323e-01, -4.48648021e-04,  3.54793430e-01]]),\n",
       " array([[ 1.33228730e-01, -1.49892493e-04,  1.07980729e-01],\n",
       "        [ 4.32630912e-02, -3.28978152e-05,  3.50474423e-02],\n",
       "        [ 6.69370256e-01, -6.98650666e-04,  5.42462419e-01]]),\n",
       " array([[ 2.03678364e-01, -2.25995139e-04,  1.65076371e-01],\n",
       "        [ 6.61523547e-02, -5.76680575e-05,  5.35980619e-02],\n",
       "        [ 1.02339658e+00, -1.08087955e-03,  8.29381258e-01]]),\n",
       " array([[ 3.11386424e-01, -3.42316991e-04,  2.52367899e-01],\n",
       "        [ 1.01147730e-01, -9.54968207e-05,  8.19599906e-02],\n",
       "        [ 1.56465195e+00, -1.66526108e-03,  1.26803895e+00]]),\n",
       " array([[ 4.76057140e-01, -5.20134490e-04,  3.85824512e-01],\n",
       "        [ 1.54651405e-01, -1.53299195e-04,  1.25321856e-01],\n",
       "        [ 2.39215377e+00, -2.55870324e-03,  1.93868364e+00]])]"
      ]
     },
     "execution_count": 28,
     "metadata": {},
     "output_type": "execute_result"
    }
   ],
   "source": [
    "cov_matrix_forecast"
   ]
  },
  {
   "cell_type": "code",
   "execution_count": null,
   "id": "8af868c6",
   "metadata": {},
   "outputs": [
    {
     "data": {
      "text/plain": [
       "{'REE': 7.16093850883226e-15, 'SAM': 0.9999999999999969, 'HAP': 0.0}"
      ]
     },
     "execution_count": 34,
     "metadata": {},
     "output_type": "execute_result"
    }
   ],
   "source": [
    "minimum_variance_portfolio(cov_matrix_forecast[11], train_df)"
   ]
  }
 ],
 "metadata": {
  "kernelspec": {
   "display_name": "lstm_bekk",
   "language": "python",
   "name": "python3"
  },
  "language_info": {
   "codemirror_mode": {
    "name": "ipython",
    "version": 3
   },
   "file_extension": ".py",
   "mimetype": "text/x-python",
   "name": "python",
   "nbconvert_exporter": "python",
   "pygments_lexer": "ipython3",
   "version": "3.12.11"
  }
 },
 "nbformat": 4,
 "nbformat_minor": 5
}
